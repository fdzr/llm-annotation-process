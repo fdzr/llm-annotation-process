{
  "cells": [
    {
      "cell_type": "code",
      "execution_count": null,
      "metadata": {},
      "outputs": [],
      "source": [
        "from __future__ import annotations\n",
        "\n",
        "import copy\n",
        "import logging\n",
        "import json\n",
        "import re\n",
        "import os\n",
        "from functools import lru_cache, partial, wraps\n",
        "from typing import Tuple\n",
        "import unicodedata\n",
        "\n",
        "import openai\n",
        "from dotenv import load_dotenv\n",
        "import pandas as pd\n",
        "\n",
        "from check_llm_answer import (\n",
        "    TEST_DATA,\n",
        "    TEST_DATA_EN,\n",
        "    create_pair_of_sentences_from_combinations,\n",
        "    load_data\n",
        ")\n",
        "from prompts.en.fs_prompt import BASE_PROMPT as fs, CONTENT_PROMPT\n",
        "from prompts.en.zs_prompt import BASE_PROMPT as zs\n",
        "from prompts.en.ct_prompt import BASE_PROMPT as ct\n",
        "\n",
        "load_dotenv()\n",
        "\n",
        "logging.basicConfig(level=logging.INFO)\n",
        "logger = logging.getLogger(__name__)\n",
        "\n",
        "API_KEY = os.getenv(\"TOGETHER_API_KEY\")\n",
        "\n",
        "client = openai.OpenAI(\n",
        "    api_key=API_KEY,\n",
        "    base_url=\"https://api.together.xyz\",\n",
        ")"
      ]
    },
    {
      "cell_type": "code",
      "execution_count": null,
      "metadata": {},
      "outputs": [],
      "source": [
        "path_to_data = \"dwug_en/data\"\n",
        "sentence_pair_per_words = create_pair_of_sentences_from_combinations(path_to_data)\n",
        "target_words = TEST_DATA_EN"
      ]
    },
    {
      "cell_type": "code",
      "execution_count": null,
      "metadata": {},
      "outputs": [],
      "source": [
        "PROMPTINGS = {\n",
        "    \"zs\": zs,\n",
        "    \"fs\": fs,\n",
        "    \"ct\": ct\n",
        "}"
      ]
    },
    {
      "cell_type": "code",
      "execution_count": null,
      "metadata": {},
      "outputs": [],
      "source": [
        "PROMPTINGS.keys()"
      ]
    },
    {
      "cell_type": "code",
      "execution_count": null,
      "metadata": {},
      "outputs": [],
      "source": [
        "queries = partial(\n",
        "    client.chat.completions.create,\n",
        "    model=\"mistralai/Mixtral-8x7B-Instruct-v0.1\",\n",
        "    max_tokens=10,\n",
        "    temperature=0.7,\n",
        ")\n",
        "\n",
        "\n",
        "def cache_with_logging(maxsize=1024) -> callable:\n",
        "    \"like lru_cache but logs cache hits\"\n",
        "\n",
        "    def decorator(func):\n",
        "        cached_func = lru_cache(maxsize=maxsize)(func)\n",
        "\n",
        "        @wraps(func)\n",
        "        def wrapper(*args, **kwargs):\n",
        "            hits_before = cached_func.cache_info().hits\n",
        "            result = cached_func(*args, **kwargs)\n",
        "            hits_after = cached_func.cache_info().hits\n",
        "            if hits_after > hits_before:\n",
        "                logger.info(f\"Cache hit for args: {args}, kwargs: {kwargs}\")\n",
        "            return result\n",
        "\n",
        "        return wrapper\n",
        "\n",
        "    return decorator\n",
        "\n",
        "\n",
        "# use maxsize = number of query, context pairs or None for unlimited (not in production)\n",
        "@cache_with_logging(maxsize=0)\n",
        "def gen_query(target_word: str, sentence1: str, sentence2: str, prompt: str) -> str:\n",
        "    response = queries(\n",
        "        messages=[\n",
        "            PROMPTINGS[prompt],\n",
        "            {\n",
        "                \"role\": \"user\",\n",
        "                \"content\": CONTENT_PROMPT.format(\n",
        "                    target_word=target_word, sentence1=sentence1, sentence2=sentence2\n",
        "                ),\n",
        "            },\n",
        "        ]\n",
        "    )\n",
        "    return response.choices[0].message.content.strip()"
      ]
    },
    {
      "cell_type": "code",
      "execution_count": null,
      "metadata": {},
      "outputs": [],
      "source": [
        "version = \"v1\"\n",
        "output = \"outputs/llama3.1/dwug_en/{folder}\""
      ]
    },
    {
      "cell_type": "code",
      "execution_count": null,
      "metadata": {},
      "outputs": [],
      "source": [
        "def extract_number(text: str):\n",
        "    pattern = r\"\\b\\d+\\b\"\n",
        "    numbers = re.findall(pattern, text)\n",
        "\n",
        "    try:\n",
        "        return numbers[0]\n",
        "    except Exception as e:\n",
        "        return None"
      ]
    },
    {
      "cell_type": "code",
      "execution_count": null,
      "metadata": {},
      "outputs": [],
      "source": [
        "%%time\n",
        "\n",
        "for key in PROMPTINGS.keys():\n",
        "    for index, word in enumerate(TEST_DATA_EN):\n",
        "        \n",
        "        word_ = unicodedata.normalize(\"NFC\", word.strip())\n",
        "        df = sentence_pair_per_words[word_]\n",
        "\n",
        "        scores_per_sentence = []\n",
        "\n",
        "        for row in df:\n",
        "            tw = word.split(\"_\")[0]\n",
        "            completition = gen_query(\n",
        "                tw,\n",
        "                row.sentence1,\n",
        "                row.sentence2,\n",
        "                key,\n",
        "            )\n",
        "            score = extract_number(completition)\n",
        "\n",
        "            ans = {\n",
        "                \"identifier1\": row.identifier1,\n",
        "                \"identifier2\": row.identifier2,\n",
        "                \"score\": \"-\" if score is None else score\n",
        "            }\n",
        "            scores_per_sentence.append(copy.deepcopy(ans))\n",
        "\n",
        "        with open(f\"{output.format(folder=key)}/test.{word}.scores\", \"w\") as f_out:\n",
        "            json.dump(scores_per_sentence, f_out)\n",
        "\n",
        "\n"
      ]
    }
  ],
  "metadata": {
    "accelerator": "GPU",
    "colab": {
      "gpuType": "T4",
      "provenance": []
    },
    "kernelspec": {
      "display_name": "Python 3",
      "name": "python3"
    },
    "language_info": {
      "codemirror_mode": {
        "name": "ipython",
        "version": 3
      },
      "file_extension": ".py",
      "mimetype": "text/x-python",
      "name": "python",
      "nbconvert_exporter": "python",
      "pygments_lexer": "ipython3",
      "version": "3.10.9"
    }
  },
  "nbformat": 4,
  "nbformat_minor": 0
}
