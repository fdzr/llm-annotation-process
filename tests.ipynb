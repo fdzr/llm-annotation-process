{
 "cells": [
  {
   "cell_type": "code",
   "execution_count": 10,
   "metadata": {},
   "outputs": [],
   "source": [
    "import pandas as pd\n",
    "from scipy.stats import spearmanr"
   ]
  },
  {
   "cell_type": "code",
   "execution_count": 22,
   "metadata": {},
   "outputs": [],
   "source": [
    "output_mixtral = \"outputs/mixtral-8xtb-v0.1/zs/\"\n",
    "output_llamav3_1 = \"outputs/llama3.1/zs/\"\n",
    "output_llamav3_1_405 = \"outputs/llama3.1/zs/\""
   ]
  },
  {
   "cell_type": "code",
   "execution_count": 25,
   "metadata": {},
   "outputs": [
    {
     "name": "stdout",
     "output_type": "stream",
     "text": [
      "Correlation: juguete\n",
      "  0.09335193348554159\n",
      "Correlation: banco\n",
      "  0.09392283125094975\n"
     ]
    }
   ],
   "source": [
    "for word in [\"juguete\", \"banco\"]:\n",
    "    data_mixtral = pd.read_json(f\"{output_mixtral}test.{word}.scores\")\n",
    "    data_llama = pd.read_json(f\"{output_llamav3_1_405}test.{word}.scores\")\n",
    "\n",
    "    data_llama.rename(\n",
    "        columns={\"identifier1\": \"id1\", \"identifier2\": \"id2\"}, inplace=True\n",
    "    )\n",
    "    # display(data_llama)\n",
    "\n",
    "    data_mixtral[\"pair\"] = data_mixtral.apply(\n",
    "        lambda row: tuple(sorted([row[\"identifier1\"], row[\"identifier2\"]])), axis=1\n",
    "    )\n",
    "    mask = data_mixtral[\"score\"] == \"-\"\n",
    "    data_mixtral = data_mixtral[~mask]\n",
    "\n",
    "    data_llama[\"pair\"] = data_llama.apply(\n",
    "        lambda row: tuple(sorted([row[\"id1\"], row[\"id2\"]])), axis=1\n",
    "    )\n",
    "    mask = data_llama[\"score\"] == \"-\"\n",
    "    data_llama = data_llama[~mask]\n",
    "\n",
    "    data_merged = data_mixtral.merge(data_llama, on=[\"pair\"], how=\"inner\")\n",
    "\n",
    "    \n",
    "    \n",
    "    print(f\"Correlation: {word}\")\n",
    "    print(f\"  {spearmanr(data_merged.score_x.to_list(), data_merged.score_y.to_list())[0]}\")"
   ]
  }
 ],
 "metadata": {
  "kernelspec": {
   "display_name": "ex",
   "language": "python",
   "name": "python3"
  },
  "language_info": {
   "codemirror_mode": {
    "name": "ipython",
    "version": 3
   },
   "file_extension": ".py",
   "mimetype": "text/x-python",
   "name": "python",
   "nbconvert_exporter": "python",
   "pygments_lexer": "ipython3",
   "version": "3.10.9"
  }
 },
 "nbformat": 4,
 "nbformat_minor": 2
}
